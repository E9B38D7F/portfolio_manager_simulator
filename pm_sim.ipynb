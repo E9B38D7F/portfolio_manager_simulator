{
 "cells": [
  {
   "cell_type": "code",
   "execution_count": 1,
   "id": "7cd2f9f7-00c6-496a-bdbf-d0d795dc06b2",
   "metadata": {},
   "outputs": [],
   "source": [
    "from pod import Pod"
   ]
  },
  {
   "cell_type": "code",
   "execution_count": null,
   "id": "f9cfa69c-63d9-47c2-8a40-dbc4215b44a3",
   "metadata": {},
   "outputs": [],
   "source": [
    "# CONFIG\n",
    "num_analysts = 3\n",
    "num_years = 5\n",
    "\n",
    "# Play the game\n",
    "pod = Pod(num_analysts)\n",
    "pod.run_multi_years(num_years)"
   ]
  }
 ],
 "metadata": {
  "kernelspec": {
   "display_name": "Python 3 (ipykernel)",
   "language": "python",
   "name": "python3"
  },
  "language_info": {
   "codemirror_mode": {
    "name": "ipython",
    "version": 3
   },
   "file_extension": ".py",
   "mimetype": "text/x-python",
   "name": "python",
   "nbconvert_exporter": "python",
   "pygments_lexer": "ipython3",
   "version": "3.12.4"
  }
 },
 "nbformat": 4,
 "nbformat_minor": 5
}
